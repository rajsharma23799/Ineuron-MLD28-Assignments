{
 "cells": [
  {
   "cell_type": "code",
   "execution_count": 1,
   "metadata": {},
   "outputs": [
    {
     "name": "stdout",
     "output_type": "stream",
     "text": [
      "5\n",
      "0\n",
      "Error= division by zero\n",
      "Enter again:\n",
      "5\n",
      "10\n",
      "Division of 5 and 10 : 0.5\n",
      "!!Finally Executed!!\n"
     ]
    }
   ],
   "source": [
    "#Question 1\n",
    "while(True):\n",
    "    try:\n",
    "        a=int(input())\n",
    "        b=int(input())\n",
    "        div=a/b\n",
    "    except Exception as e:\n",
    "        print(\"Error=\",e)\n",
    "        print('Enter again:')\n",
    "    else:\n",
    "        print(f'Division of {a} and {b} : {div}')\n",
    "        print('!!Finally Executed!!')\n",
    "        break"
   ]
  },
  {
   "cell_type": "code",
   "execution_count": 1,
   "metadata": {},
   "outputs": [
    {
     "name": "stdout",
     "output_type": "stream",
     "text": [
      "Americans play Basketball.\n",
      "Americans play Cricket.\n",
      "Americans watch Basketball.\n",
      "Americans watch Cricket.\n",
      "Indians play Basketball.\n",
      "Indians play Cricket.\n",
      "Indians watch Basketball.\n",
      "Indians watch Cricket.\n"
     ]
    }
   ],
   "source": [
    "#Question 2\n",
    "subjects=[\"Americans\",\"Indians\"]\n",
    "verbs=[\"play\",\"watch\"]\n",
    "objects=[\"Basketball\",\"Cricket\"]\n",
    "s=[i+' '+j+' '+k+'.' for i in subjects for j in verbs for k in objects]\n",
    "for x in range(len(subjects)*len(verbs)*len(objects)):\n",
    "    print(s[x])"
   ]
  }
 ],
 "metadata": {
  "kernelspec": {
   "display_name": "Python 3",
   "language": "python",
   "name": "python3"
  },
  "language_info": {
   "codemirror_mode": {
    "name": "ipython",
    "version": 3
   },
   "file_extension": ".py",
   "mimetype": "text/x-python",
   "name": "python",
   "nbconvert_exporter": "python",
   "pygments_lexer": "ipython3",
   "version": "3.7.4"
  }
 },
 "nbformat": 4,
 "nbformat_minor": 2
}
